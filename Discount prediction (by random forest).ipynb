{
 "cells": [
  {
   "cell_type": "code",
   "execution_count": 1,
   "id": "84568d4e",
   "metadata": {},
   "outputs": [],
   "source": [
    "import pandas as pd\n",
    "import numpy as np\n",
    "import matplotlib.pyplot as plt"
   ]
  },
  {
   "cell_type": "code",
   "execution_count": 2,
   "id": "616252f0",
   "metadata": {},
   "outputs": [
    {
     "data": {
      "text/html": [
       "<div>\n",
       "<style scoped>\n",
       "    .dataframe tbody tr th:only-of-type {\n",
       "        vertical-align: middle;\n",
       "    }\n",
       "\n",
       "    .dataframe tbody tr th {\n",
       "        vertical-align: top;\n",
       "    }\n",
       "\n",
       "    .dataframe thead th {\n",
       "        text-align: right;\n",
       "    }\n",
       "</style>\n",
       "<table border=\"1\" class=\"dataframe\">\n",
       "  <thead>\n",
       "    <tr style=\"text-align: right;\">\n",
       "      <th></th>\n",
       "      <th>id</th>\n",
       "      <th>title</th>\n",
       "      <th>Rating</th>\n",
       "      <th>maincateg</th>\n",
       "      <th>platform</th>\n",
       "      <th>price1</th>\n",
       "      <th>actprice1</th>\n",
       "      <th>Offer %</th>\n",
       "      <th>norating1</th>\n",
       "      <th>noreviews1</th>\n",
       "      <th>star_5f</th>\n",
       "      <th>star_4f</th>\n",
       "      <th>star_3f</th>\n",
       "      <th>star_2f</th>\n",
       "      <th>star_1f</th>\n",
       "      <th>fulfilled1</th>\n",
       "    </tr>\n",
       "  </thead>\n",
       "  <tbody>\n",
       "    <tr>\n",
       "      <th>0</th>\n",
       "      <td>16695</td>\n",
       "      <td>Fashionable &amp; Comfortable Bellies For Women  (...</td>\n",
       "      <td>3.9</td>\n",
       "      <td>Women</td>\n",
       "      <td>Flipkart</td>\n",
       "      <td>698</td>\n",
       "      <td>999</td>\n",
       "      <td>30.13%</td>\n",
       "      <td>38.0</td>\n",
       "      <td>7.0</td>\n",
       "      <td>17.0</td>\n",
       "      <td>9.0</td>\n",
       "      <td>6.0</td>\n",
       "      <td>3</td>\n",
       "      <td>3</td>\n",
       "      <td>0</td>\n",
       "    </tr>\n",
       "    <tr>\n",
       "      <th>1</th>\n",
       "      <td>5120</td>\n",
       "      <td>Combo Pack of 4 Casual Shoes Sneakers For Men ...</td>\n",
       "      <td>3.8</td>\n",
       "      <td>Men</td>\n",
       "      <td>Flipkart</td>\n",
       "      <td>999</td>\n",
       "      <td>1999</td>\n",
       "      <td>50.03%</td>\n",
       "      <td>531.0</td>\n",
       "      <td>69.0</td>\n",
       "      <td>264.0</td>\n",
       "      <td>92.0</td>\n",
       "      <td>73.0</td>\n",
       "      <td>29</td>\n",
       "      <td>73</td>\n",
       "      <td>1</td>\n",
       "    </tr>\n",
       "    <tr>\n",
       "      <th>2</th>\n",
       "      <td>18391</td>\n",
       "      <td>Cilia Mode Leo Sneakers For Women  (White)</td>\n",
       "      <td>4.4</td>\n",
       "      <td>Women</td>\n",
       "      <td>Flipkart</td>\n",
       "      <td>2749</td>\n",
       "      <td>4999</td>\n",
       "      <td>45.01%</td>\n",
       "      <td>17.0</td>\n",
       "      <td>4.0</td>\n",
       "      <td>11.0</td>\n",
       "      <td>3.0</td>\n",
       "      <td>2.0</td>\n",
       "      <td>1</td>\n",
       "      <td>0</td>\n",
       "      <td>1</td>\n",
       "    </tr>\n",
       "    <tr>\n",
       "      <th>3</th>\n",
       "      <td>495</td>\n",
       "      <td>Men Black Sports Sandal</td>\n",
       "      <td>4.2</td>\n",
       "      <td>Men</td>\n",
       "      <td>Flipkart</td>\n",
       "      <td>518</td>\n",
       "      <td>724</td>\n",
       "      <td>15.85%</td>\n",
       "      <td>46413.0</td>\n",
       "      <td>6229.0</td>\n",
       "      <td>1045.0</td>\n",
       "      <td>12416.0</td>\n",
       "      <td>5352.0</td>\n",
       "      <td>701</td>\n",
       "      <td>4595</td>\n",
       "      <td>1</td>\n",
       "    </tr>\n",
       "    <tr>\n",
       "      <th>4</th>\n",
       "      <td>16408</td>\n",
       "      <td>Men Green Sports Sandal</td>\n",
       "      <td>3.9</td>\n",
       "      <td>Men</td>\n",
       "      <td>Flipkart</td>\n",
       "      <td>1379</td>\n",
       "      <td>2299</td>\n",
       "      <td>40.02%</td>\n",
       "      <td>77.0</td>\n",
       "      <td>3.0</td>\n",
       "      <td>35.0</td>\n",
       "      <td>21.0</td>\n",
       "      <td>7.0</td>\n",
       "      <td>7</td>\n",
       "      <td>7</td>\n",
       "      <td>1</td>\n",
       "    </tr>\n",
       "  </tbody>\n",
       "</table>\n",
       "</div>"
      ],
      "text/plain": [
       "      id                                              title  Rating maincateg  \\\n",
       "0  16695  Fashionable & Comfortable Bellies For Women  (...     3.9     Women   \n",
       "1   5120  Combo Pack of 4 Casual Shoes Sneakers For Men ...     3.8       Men   \n",
       "2  18391         Cilia Mode Leo Sneakers For Women  (White)     4.4     Women   \n",
       "3    495                            Men Black Sports Sandal     4.2       Men   \n",
       "4  16408                            Men Green Sports Sandal     3.9       Men   \n",
       "\n",
       "   platform  price1  actprice1 Offer %  norating1  noreviews1  star_5f  \\\n",
       "0  Flipkart     698        999  30.13%       38.0         7.0     17.0   \n",
       "1  Flipkart     999       1999  50.03%      531.0        69.0    264.0   \n",
       "2  Flipkart    2749       4999  45.01%       17.0         4.0     11.0   \n",
       "3  Flipkart     518        724  15.85%    46413.0      6229.0   1045.0   \n",
       "4  Flipkart    1379       2299  40.02%       77.0         3.0     35.0   \n",
       "\n",
       "   star_4f  star_3f  star_2f  star_1f  fulfilled1  \n",
       "0      9.0      6.0        3        3           0  \n",
       "1     92.0     73.0       29       73           1  \n",
       "2      3.0      2.0        1        0           1  \n",
       "3  12416.0   5352.0      701     4595           1  \n",
       "4     21.0      7.0        7        7           1  "
      ]
     },
     "execution_count": 2,
     "metadata": {},
     "output_type": "execute_result"
    }
   ],
   "source": [
    "train_data=pd.read_csv('train.csv')\n",
    "\n",
    "train_data1=pd.read_csv('train.csv')\n",
    "train_data.head()"
   ]
  },
  {
   "cell_type": "code",
   "execution_count": 3,
   "id": "3ffe4531",
   "metadata": {},
   "outputs": [
    {
     "name": "stdout",
     "output_type": "stream",
     "text": [
      "<class 'pandas.core.frame.DataFrame'>\n",
      "RangeIndex: 15730 entries, 0 to 15729\n",
      "Data columns (total 16 columns):\n",
      " #   Column      Non-Null Count  Dtype  \n",
      "---  ------      --------------  -----  \n",
      " 0   id          15730 non-null  int64  \n",
      " 1   title       15730 non-null  object \n",
      " 2   Rating      15730 non-null  float64\n",
      " 3   maincateg   15204 non-null  object \n",
      " 4   platform    15730 non-null  object \n",
      " 5   price1      15730 non-null  int64  \n",
      " 6   actprice1   15730 non-null  int64  \n",
      " 7   Offer %     15730 non-null  object \n",
      " 8   norating1   15052 non-null  float64\n",
      " 9   noreviews1  15152 non-null  float64\n",
      " 10  star_5f     15142 non-null  float64\n",
      " 11  star_4f     15191 non-null  float64\n",
      " 12  star_3f     15499 non-null  float64\n",
      " 13  star_2f     15730 non-null  int64  \n",
      " 14  star_1f     15730 non-null  int64  \n",
      " 15  fulfilled1  15730 non-null  int64  \n",
      "dtypes: float64(6), int64(6), object(4)\n",
      "memory usage: 1.9+ MB\n"
     ]
    }
   ],
   "source": [
    "train_data.info()"
   ]
  },
  {
   "cell_type": "code",
   "execution_count": 4,
   "id": "5afeadbc",
   "metadata": {},
   "outputs": [
    {
     "data": {
      "text/plain": [
       "id              0\n",
       "title           0\n",
       "Rating          0\n",
       "maincateg     526\n",
       "platform        0\n",
       "price1          0\n",
       "actprice1       0\n",
       "Offer %         0\n",
       "norating1     678\n",
       "noreviews1    578\n",
       "star_5f       588\n",
       "star_4f       539\n",
       "star_3f       231\n",
       "star_2f         0\n",
       "star_1f         0\n",
       "fulfilled1      0\n",
       "dtype: int64"
      ]
     },
     "execution_count": 4,
     "metadata": {},
     "output_type": "execute_result"
    }
   ],
   "source": [
    "train_data.isnull().sum()"
   ]
  },
  {
   "cell_type": "code",
   "execution_count": 5,
   "id": "5609d2c7",
   "metadata": {},
   "outputs": [],
   "source": [
    "# filling nan with 0\n",
    "\n",
    "train_data['star_5f']=train_data['star_5f'].fillna(0)\n",
    "train_data['star_4f']=train_data['star_4f'].fillna(0)\n",
    "train_data['star_3f']=train_data['star_3f'].fillna(0)\n",
    "train_data['norating1']=train_data['norating1'].fillna(0)\n",
    "train_data['noreviews1']=train_data['noreviews1'].fillna(0)"
   ]
  },
  {
   "cell_type": "code",
   "execution_count": 6,
   "id": "1343074d",
   "metadata": {},
   "outputs": [],
   "source": [
    "# filling nan values in maincateg with gender\n",
    "\n",
    "train_data['title']=train_data['title'].str.find('Men')\n",
    "train_data.loc[train_data.title >=0, 'maincateg']= 'Men'\n",
    "train_data.loc[train_data.title<0, 'maincateg']= 'Women'\n",
    "train_data['title']=train_data1['title']"
   ]
  },
  {
   "cell_type": "code",
   "execution_count": 7,
   "id": "8c49e2f6",
   "metadata": {},
   "outputs": [
    {
     "data": {
      "text/plain": [
       "id            0\n",
       "title         0\n",
       "Rating        0\n",
       "maincateg     0\n",
       "platform      0\n",
       "price1        0\n",
       "actprice1     0\n",
       "Offer %       0\n",
       "norating1     0\n",
       "noreviews1    0\n",
       "star_5f       0\n",
       "star_4f       0\n",
       "star_3f       0\n",
       "star_2f       0\n",
       "star_1f       0\n",
       "fulfilled1    0\n",
       "dtype: int64"
      ]
     },
     "execution_count": 7,
     "metadata": {},
     "output_type": "execute_result"
    }
   ],
   "source": [
    "train_data.isnull().sum()"
   ]
  },
  {
   "cell_type": "code",
   "execution_count": 8,
   "id": "def13286",
   "metadata": {},
   "outputs": [],
   "source": [
    "# independent variables and dependent variables\n",
    "\n",
    "X=train_data.drop(['Offer %','price1','title','id'],axis=1)\n",
    "y=train_data['price1']"
   ]
  },
  {
   "cell_type": "code",
   "execution_count": 9,
   "id": "a8c016d1",
   "metadata": {},
   "outputs": [],
   "source": [
    "# # removing punctuation from y column\n",
    "\n",
    "# import string\n",
    "# string.punctuation\n",
    "\n",
    "# def rev_pun(text):\n",
    "#     no_punt=''.join([c for c in text if c not in '%'])\n",
    "#     return no_punt\n",
    "\n",
    "# X['Offer %']=X['Offer %'].apply(lambda x: rev_pun(x))\n",
    "# X['Offer %']=X['Offer %'].astype(float)"
   ]
  },
  {
   "cell_type": "code",
   "execution_count": 10,
   "id": "f7d3ad09",
   "metadata": {},
   "outputs": [],
   "source": [
    "#women = 1 and men = 0\n",
    "# flipkart = 1 and amazon = 0\n",
    "\n",
    "from sklearn.preprocessing import LabelEncoder\n",
    "le=LabelEncoder()\n",
    "X.maincateg=le.fit_transform(X.maincateg)\n",
    "X.platform=le.fit_transform(X.platform)"
   ]
  },
  {
   "cell_type": "code",
   "execution_count": 11,
   "id": "988f7693",
   "metadata": {},
   "outputs": [
    {
     "data": {
      "text/html": [
       "<div>\n",
       "<style scoped>\n",
       "    .dataframe tbody tr th:only-of-type {\n",
       "        vertical-align: middle;\n",
       "    }\n",
       "\n",
       "    .dataframe tbody tr th {\n",
       "        vertical-align: top;\n",
       "    }\n",
       "\n",
       "    .dataframe thead th {\n",
       "        text-align: right;\n",
       "    }\n",
       "</style>\n",
       "<table border=\"1\" class=\"dataframe\">\n",
       "  <thead>\n",
       "    <tr style=\"text-align: right;\">\n",
       "      <th></th>\n",
       "      <th>Rating</th>\n",
       "      <th>maincateg</th>\n",
       "      <th>platform</th>\n",
       "      <th>actprice1</th>\n",
       "      <th>norating1</th>\n",
       "      <th>noreviews1</th>\n",
       "      <th>star_5f</th>\n",
       "      <th>star_4f</th>\n",
       "      <th>star_3f</th>\n",
       "      <th>star_2f</th>\n",
       "      <th>star_1f</th>\n",
       "      <th>fulfilled1</th>\n",
       "    </tr>\n",
       "  </thead>\n",
       "  <tbody>\n",
       "    <tr>\n",
       "      <th>0</th>\n",
       "      <td>-0.441262</td>\n",
       "      <td>0.767600</td>\n",
       "      <td>0.148858</td>\n",
       "      <td>0.024192</td>\n",
       "      <td>-0.768524</td>\n",
       "      <td>-0.733605</td>\n",
       "      <td>-0.837965</td>\n",
       "      <td>-0.747570</td>\n",
       "      <td>-0.765894</td>\n",
       "      <td>-0.816818</td>\n",
       "      <td>-1.042378</td>\n",
       "      <td>-1.228647</td>\n",
       "    </tr>\n",
       "    <tr>\n",
       "      <th>1</th>\n",
       "      <td>-0.765863</td>\n",
       "      <td>-1.302762</td>\n",
       "      <td>0.148858</td>\n",
       "      <td>1.035790</td>\n",
       "      <td>0.283008</td>\n",
       "      <td>0.282327</td>\n",
       "      <td>0.287809</td>\n",
       "      <td>0.250405</td>\n",
       "      <td>0.379875</td>\n",
       "      <td>0.287482</td>\n",
       "      <td>0.448371</td>\n",
       "      <td>0.813904</td>\n",
       "    </tr>\n",
       "    <tr>\n",
       "      <th>2</th>\n",
       "      <td>1.384995</td>\n",
       "      <td>0.767600</td>\n",
       "      <td>0.148858</td>\n",
       "      <td>2.001993</td>\n",
       "      <td>-1.067692</td>\n",
       "      <td>-0.966386</td>\n",
       "      <td>-1.007603</td>\n",
       "      <td>-1.178567</td>\n",
       "      <td>-1.218991</td>\n",
       "      <td>-1.247301</td>\n",
       "      <td>-1.854459</td>\n",
       "      <td>0.813904</td>\n",
       "    </tr>\n",
       "    <tr>\n",
       "      <th>3</th>\n",
       "      <td>0.612815</td>\n",
       "      <td>-1.302762</td>\n",
       "      <td>0.148858</td>\n",
       "      <td>-0.551268</td>\n",
       "      <td>2.235045</td>\n",
       "      <td>2.108999</td>\n",
       "      <td>0.862956</td>\n",
       "      <td>2.207886</td>\n",
       "      <td>2.086169</td>\n",
       "      <td>1.648163</td>\n",
       "      <td>2.134081</td>\n",
       "      <td>0.813904</td>\n",
       "    </tr>\n",
       "    <tr>\n",
       "      <th>4</th>\n",
       "      <td>-0.441262</td>\n",
       "      <td>-1.302762</td>\n",
       "      <td>0.148858</td>\n",
       "      <td>1.207418</td>\n",
       "      <td>-0.495748</td>\n",
       "      <td>-1.078545</td>\n",
       "      <td>-0.547912</td>\n",
       "      <td>-0.386614</td>\n",
       "      <td>-0.696574</td>\n",
       "      <td>-0.413292</td>\n",
       "      <td>-0.662598</td>\n",
       "      <td>0.813904</td>\n",
       "    </tr>\n",
       "  </tbody>\n",
       "</table>\n",
       "</div>"
      ],
      "text/plain": [
       "     Rating  maincateg  platform  actprice1  norating1  noreviews1   star_5f  \\\n",
       "0 -0.441262   0.767600  0.148858   0.024192  -0.768524   -0.733605 -0.837965   \n",
       "1 -0.765863  -1.302762  0.148858   1.035790   0.283008    0.282327  0.287809   \n",
       "2  1.384995   0.767600  0.148858   2.001993  -1.067692   -0.966386 -1.007603   \n",
       "3  0.612815  -1.302762  0.148858  -0.551268   2.235045    2.108999  0.862956   \n",
       "4 -0.441262  -1.302762  0.148858   1.207418  -0.495748   -1.078545 -0.547912   \n",
       "\n",
       "    star_4f   star_3f   star_2f   star_1f  fulfilled1  \n",
       "0 -0.747570 -0.765894 -0.816818 -1.042378   -1.228647  \n",
       "1  0.250405  0.379875  0.287482  0.448371    0.813904  \n",
       "2 -1.178567 -1.218991 -1.247301 -1.854459    0.813904  \n",
       "3  2.207886  2.086169  1.648163  2.134081    0.813904  \n",
       "4 -0.386614 -0.696574 -0.413292 -0.662598    0.813904  "
      ]
     },
     "execution_count": 11,
     "metadata": {},
     "output_type": "execute_result"
    }
   ],
   "source": [
    "# boxcox transformation\n",
    "\n",
    "from sklearn.preprocessing import PowerTransformer\n",
    "pw=PowerTransformer()\n",
    "\n",
    "X=pd.DataFrame(pw.fit_transform(X),columns=X.columns)\n",
    "\n",
    "\n",
    "\n",
    "X.head()"
   ]
  },
  {
   "cell_type": "code",
   "execution_count": 12,
   "id": "0c2a1e33",
   "metadata": {},
   "outputs": [],
   "source": [
    "# # QQ plot\n",
    "\n",
    "# from scipy import stats\n",
    "# import seaborn as sns\n",
    "# for i in X.columns:\n",
    "#     plt.figure(figsize=(10,6))\n",
    "#     plt.subplot(121)\n",
    "#     sns.histplot(X[i])\n",
    "#     plt.title(i)\n",
    "    \n",
    "#     plt.subplot(122)\n",
    "#     stats.probplot(X[i],dist='norm',plot=plt)\n",
    "#     plt.title(i)\n",
    "    \n",
    "# plt.show()"
   ]
  },
  {
   "cell_type": "code",
   "execution_count": 13,
   "id": "cb42ae05",
   "metadata": {},
   "outputs": [],
   "source": [
    "# # correlation metrix\n",
    "\n",
    "# plt.figure(figsize=(20,10))\n",
    "# sns.heatmap(X.corr(),annot=True)\n",
    "# plt.show()"
   ]
  },
  {
   "cell_type": "code",
   "execution_count": 14,
   "id": "74ee9c75",
   "metadata": {},
   "outputs": [
    {
     "name": "stdout",
     "output_type": "stream",
     "text": [
      "training data (12584, 12) (12584,)\n",
      "validation data (3146, 12) (3146,)\n"
     ]
    }
   ],
   "source": [
    "from sklearn.model_selection import train_test_split\n",
    "\n",
    "X_train,X_val,y_train,y_val=train_test_split(X,y,test_size=.2,random_state=40)\n",
    "print('training data',X_train.shape,y_train.shape)\n",
    "print('validation data',X_val.shape,y_val.shape)"
   ]
  },
  {
   "cell_type": "code",
   "execution_count": 15,
   "id": "7cc7cb4d",
   "metadata": {},
   "outputs": [
    {
     "name": "stdout",
     "output_type": "stream",
     "text": [
      "0.985506226533619 0.8929671369138603\n"
     ]
    }
   ],
   "source": [
    "from sklearn.ensemble import RandomForestRegressor\n",
    "rfc=RandomForestRegressor()\n",
    "\n",
    "rfc.fit(X_train,y_train)\n",
    "print(rfc.score(X_train,y_train),rfc.score(X_val,y_val))"
   ]
  },
  {
   "cell_type": "code",
   "execution_count": 16,
   "id": "eec745ef",
   "metadata": {},
   "outputs": [
    {
     "data": {
      "text/plain": [
       "47744.24655475021"
      ]
     },
     "execution_count": 16,
     "metadata": {},
     "output_type": "execute_result"
    }
   ],
   "source": [
    "from sklearn.metrics  import mean_squared_error\n",
    "\n",
    "predicted_y=rfc.predict(X_val)\n",
    "mean_squared_error(predicted_y,y_val)"
   ]
  },
  {
   "cell_type": "code",
   "execution_count": 17,
   "id": "2b61ed0b",
   "metadata": {},
   "outputs": [],
   "source": [
    "# from sklearn.model_selection import cross_val_score\n",
    "\n",
    "# cross_val_score(rfc,X_val,y_val,cv=5)"
   ]
  },
  {
   "cell_type": "code",
   "execution_count": 21,
   "id": "faaa2f32",
   "metadata": {},
   "outputs": [],
   "source": [
    "from sklearn.model_selection import GridSearchCV\n",
    "\n",
    "\n",
    "params={'n_estimators':[1500,2000],\n",
    "        'max_features':[0.5],\n",
    "        'min_samples_split':2,\n",
    "        'max_depth':None,\n",
    "        'bootstrap':[True],\n",
    "        'random_state':[True],\n",
    "        'max_samples':[0.75]}\n",
    "\n",
    "# gs_cv=GridSearchCV(estimator=rfc,cv=5,param_grid=params,scoring='neg_mean_absolute_error',verbose=2)\n",
    "# gs_cv.fit(X_train,y_train)\n"
   ]
  },
  {
   "cell_type": "code",
   "execution_count": null,
   "id": "d89053c2",
   "metadata": {},
   "outputs": [],
   "source": [
    "# from sklearn.model_selection import RandomizedSearchCV\n",
    "\n",
    "# gs_rand=RandomizedSearchCV(estimator=rfc,cv=5,param_distribution=params,scoring='neg_mean_squared_error',verbose=2,n_jobs=-1)\n",
    "# gs_rand.fit(X_train,y_train)\n"
   ]
  },
  {
   "cell_type": "code",
   "execution_count": null,
   "id": "c69012fd",
   "metadata": {},
   "outputs": [],
   "source": [
    "# gs_cv.best_params_"
   ]
  },
  {
   "cell_type": "code",
   "execution_count": null,
   "id": "aac28cea",
   "metadata": {},
   "outputs": [],
   "source": [
    "rfc_gsc=RandomForestRegressor(bootstrap=True,\n",
    "                              criterion='absolute_error',\n",
    "                              max_depth=None,\n",
    "                              max_features=0.5,\n",
    "                              min_samples_split=2,\n",
    "                              max_samples=0.75,\n",
    "                              n_estimators=1500,\n",
    "                              random_state=True)\n",
    "\n",
    "rfc_gsc.fit(X_train,y_train)\n",
    "# print(rfc_gsc.score(X_train,y_train),rfc_gsc.score(X_val,y_val))"
   ]
  },
  {
   "cell_type": "code",
   "execution_count": null,
   "id": "afede2ac",
   "metadata": {},
   "outputs": [],
   "source": []
  },
  {
   "cell_type": "code",
   "execution_count": null,
   "id": "13a63e4a",
   "metadata": {},
   "outputs": [],
   "source": [
    "# rfc_gsc=RandomForestRegressor(bootstrap=True,max_features='log2', max_samples=0.8, n_estimators=1500,\n",
    "#                       random_state=True)\n",
    "\n",
    "# rfc_gsc.fit(X_train,y_train)\n",
    "# print(rfc_gsc.score(X_train,y_train),rfc_gsc.score(X_val,y_val))"
   ]
  },
  {
   "cell_type": "code",
   "execution_count": 23,
   "id": "1059f330",
   "metadata": {},
   "outputs": [
    {
     "data": {
      "text/plain": [
       "104.9354356686802"
      ]
     },
     "execution_count": 23,
     "metadata": {},
     "output_type": "execute_result"
    }
   ],
   "source": [
    "from sklearn.metrics import mean_absolute_error\n",
    "pred_y_gsc=rfc_gsc.predict(X_val)\n",
    "mean_absolute_error(pred_y_gsc,y_val)"
   ]
  },
  {
   "cell_type": "markdown",
   "id": "d50a6cc3",
   "metadata": {},
   "source": [
    "## test data"
   ]
  },
  {
   "cell_type": "code",
   "execution_count": null,
   "id": "617b4eeb",
   "metadata": {},
   "outputs": [],
   "source": [
    "test_data=pd.read_csv('test.csv')\n",
    "test_data1=pd.read_csv('test.csv')\n",
    "test_data.head()"
   ]
  },
  {
   "cell_type": "code",
   "execution_count": null,
   "id": "aef189a5",
   "metadata": {},
   "outputs": [],
   "source": [
    "test_data.isnull().sum()"
   ]
  },
  {
   "cell_type": "code",
   "execution_count": null,
   "id": "f6af0068",
   "metadata": {},
   "outputs": [],
   "source": [
    "test_data.shape"
   ]
  },
  {
   "cell_type": "code",
   "execution_count": null,
   "id": "338b0a1f",
   "metadata": {},
   "outputs": [],
   "source": [
    "test_data['Rating']=test_data['Rating'].fillna(0)\n",
    "test_data['star_5f']=test_data['star_5f'].fillna(0)\n",
    "test_data['star_1f']=test_data['star_1f'].fillna(0)"
   ]
  },
  {
   "cell_type": "code",
   "execution_count": null,
   "id": "c7c40f94",
   "metadata": {},
   "outputs": [],
   "source": [
    "test_data['title']=test_data['title'].str.find('Men')\n",
    "test_data.loc[test_data.title >=0, 'maincateg']= 'Men'\n",
    "test_data.loc[test_data.title<0, 'maincateg']= 'Women'\n",
    "test_data['title']=test_data1['title']"
   ]
  },
  {
   "cell_type": "code",
   "execution_count": null,
   "id": "d2c3a8b5",
   "metadata": {},
   "outputs": [],
   "source": [
    "test_data=test_data.drop(['title','id'],axis=1)"
   ]
  },
  {
   "cell_type": "code",
   "execution_count": null,
   "id": "a8a914d1",
   "metadata": {},
   "outputs": [],
   "source": [
    "test_data.head()"
   ]
  },
  {
   "cell_type": "code",
   "execution_count": null,
   "id": "c3617f4c",
   "metadata": {},
   "outputs": [],
   "source": [
    "test_data.platform=le.transform(test_data.platform)"
   ]
  },
  {
   "cell_type": "code",
   "execution_count": null,
   "id": "e3c3980c",
   "metadata": {},
   "outputs": [],
   "source": [
    "test_data.loc[test_data.maincateg=='Men','maincateg']=0\n",
    "test_data.loc[test_data.maincateg=='Women','maincateg']=1"
   ]
  },
  {
   "cell_type": "code",
   "execution_count": null,
   "id": "dc28ff79",
   "metadata": {},
   "outputs": [],
   "source": [
    "\n",
    "test_data=pd.DataFrame(pw.transform(test_data),columns=test_data.columns)"
   ]
  },
  {
   "cell_type": "code",
   "execution_count": null,
   "id": "0a6063f2",
   "metadata": {},
   "outputs": [],
   "source": [
    "test_data.head()"
   ]
  },
  {
   "cell_type": "code",
   "execution_count": null,
   "id": "62218a7d",
   "metadata": {},
   "outputs": [],
   "source": [
    "predicted_test_y=rfc_gsc.predict(test_data)\n",
    "predicted_test_y\n"
   ]
  },
  {
   "cell_type": "code",
   "execution_count": null,
   "id": "998f9786",
   "metadata": {},
   "outputs": [],
   "source": [
    "dict={'id':test_data1['id'],\n",
    "     'price1':predicted_test_y}\n",
    "sub_value=pd.DataFrame(dict)"
   ]
  },
  {
   "cell_type": "code",
   "execution_count": null,
   "id": "5a0c11e0",
   "metadata": {},
   "outputs": [],
   "source": [
    "sub_value.head()"
   ]
  },
  {
   "cell_type": "code",
   "execution_count": null,
   "id": "cc9e3d9a",
   "metadata": {},
   "outputs": [],
   "source": [
    "sub_value.to_csv('Sample_Submission_randf.csv',index=False)"
   ]
  },
  {
   "cell_type": "code",
   "execution_count": null,
   "id": "bb3485ab",
   "metadata": {},
   "outputs": [],
   "source": []
  }
 ],
 "metadata": {
  "kernelspec": {
   "display_name": "Python 3 (ipykernel)",
   "language": "python",
   "name": "python3"
  },
  "language_info": {
   "codemirror_mode": {
    "name": "ipython",
    "version": 3
   },
   "file_extension": ".py",
   "mimetype": "text/x-python",
   "name": "python",
   "nbconvert_exporter": "python",
   "pygments_lexer": "ipython3",
   "version": "3.10.4"
  }
 },
 "nbformat": 4,
 "nbformat_minor": 5
}
